{
 "cells": [
  {
   "cell_type": "markdown",
   "metadata": {},
   "source": [
    "### Python 복습"
   ]
  },
  {
   "cell_type": "markdown",
   "metadata": {},
   "source": [
    "### Markdown 수식 작성\n",
    "    - LaTEX 태그로 작성 가능\n",
    "$$\n",
    "    \\begin{pmatrix}\n",
    "    1 & 2 & 3 \\\\\n",
    "    4 & 5 & 6 \\\\\n",
    "    \\end{pmatrix}\n",
    "    +\n",
    "        \\begin{pmatrix}\n",
    "    5 & 5 & 5 \\\\\n",
    "    5 & 5 & 5 \\\\\n",
    "    \\end{pmatrix}\n",
    "$$\n",
    "$$\n",
    "\n",
    "    \\begin{pmatrix}\n",
    "    1 & 2 & 3 \\\\\n",
    "    4 & 5 & 6 \\\\\n",
    "    \\end{pmatrix}\n",
    "    \\times\n",
    "        \\begin{pmatrix}\n",
    "    5 & 5 \\\\\n",
    "    5 & 5 \\\\\n",
    "    5 & 5 \\\\\n",
    "    \\end{pmatrix}\n",
    "$$"
   ]
  },
  {
   "cell_type": "markdown",
   "metadata": {},
   "source": [
    "### Numpy\n",
    "    - 데이터는 행렬로 표현(영상도 포함)\n",
    "    - 선형대수 / 통계 연산을 위한 라이브러리\n",
    "\n",
    "    Pandas : 데이터 분석에 가장 많이 활용\n",
    "    Numpy : 알고리즘 활용에 numpy가 필수적 패키지"
   ]
  },
  {
   "cell_type": "code",
   "execution_count": 1,
   "metadata": {},
   "outputs": [],
   "source": [
    "# 호출\n",
    "import numpy as np"
   ]
  },
  {
   "cell_type": "markdown",
   "metadata": {},
   "source": [
    "### array broadcasting\n",
    "    - 차원이 다른 연산을 동일한 차원으로 자동으로 변경시켜 연산을 가능하게 해주는 것\n",
    "    - 딥러닝에서 bias(편향) 계산을 할 때 주로 사용"
   ]
  },
  {
   "cell_type": "code",
   "execution_count": 6,
   "metadata": {},
   "outputs": [
    {
     "data": {
      "text/plain": [
       "array([ 1.45270874, -0.06938953,  0.52656408, -1.17043445,  0.75590862,\n",
       "       -0.10483612, -0.62540367,  0.62424856, -0.87301775, -0.14663502])"
      ]
     },
     "execution_count": 6,
     "metadata": {},
     "output_type": "execute_result"
    }
   ],
   "source": [
    "# ary = np.array(np.random.randint(10, 100, 10))\n",
    "\n",
    "# 초기 가중치 생성\n",
    "ary = np.array(np.random.randn(10))# 표준 정규분포를 따르는 난수 생성 -> 초기 가중치 생성 때 사용\n",
    "ary"
   ]
  },
  {
   "cell_type": "code",
   "execution_count": 7,
   "metadata": {},
   "outputs": [
    {
     "data": {
      "text/plain": [
       "array([0.42859403])"
      ]
     },
     "execution_count": 7,
     "metadata": {},
     "output_type": "execute_result"
    }
   ],
   "source": [
    "# 편향값 생성\n",
    "bias = np.random.rand(1)\n",
    "bias"
   ]
  },
  {
   "cell_type": "code",
   "execution_count": 8,
   "metadata": {},
   "outputs": [
    {
     "data": {
      "text/plain": [
       "array([ 1.88130278,  0.3592045 ,  0.95515812, -0.74184041,  1.18450266,\n",
       "        0.32375792, -0.19680963,  1.05284259, -0.44442371,  0.28195901])"
      ]
     },
     "execution_count": 8,
     "metadata": {},
     "output_type": "execute_result"
    }
   ],
   "source": [
    "ary + bias # array broadcasting"
   ]
  },
  {
   "cell_type": "markdown",
   "metadata": {},
   "source": [
    "### 통계함수\n",
    "    - max, min, mean, median, var, std"
   ]
  },
  {
   "cell_type": "code",
   "execution_count": 10,
   "metadata": {},
   "outputs": [
    {
     "data": {
      "text/plain": [
       "(1.4527087428608558, -1.1704344459533744)"
      ]
     },
     "execution_count": 10,
     "metadata": {},
     "output_type": "execute_result"
    }
   ],
   "source": [
    "np.max(ary),np.min(ary) # min-max normalization 때 사용 -> 데이터 정규화"
   ]
  },
  {
   "cell_type": "markdown",
   "metadata": {},
   "source": [
    "### Random 모듈\n",
    "- seed : 랜덤 모듈의 규칙값. 난수 생성 환경 고정\n",
    "- randint : 균등분포로 정수 생성\n",
    "- randn : 정규분포로 난수 생성\n",
    "- shuffle : 무작위 섞기\n",
    "- choice : 특정확률로 데이터 뽑기"
   ]
  },
  {
   "cell_type": "markdown",
   "metadata": {},
   "source": [
    "### seed"
   ]
  },
  {
   "cell_type": "code",
   "execution_count": 12,
   "metadata": {},
   "outputs": [],
   "source": [
    "seed = 603 # 머신러닝, 딥러닝에서 하이퍼파라미터로 사용\n",
    "\n",
    "np.random.seed(seed)\n",
    "r1 = np.random.rand(10)\n",
    "\n",
    "np.random.seed(1)\n",
    "r2 = np.random.rand(10)\n",
    "\n",
    "np.random.seed(seed)\n",
    "r3 = np.random.rand(10)"
   ]
  },
  {
   "cell_type": "code",
   "execution_count": 13,
   "metadata": {},
   "outputs": [
    {
     "data": {
      "text/plain": [
       "(array([0.06450168, 0.13338277, 0.10931622, 0.97127506, 0.85101842,\n",
       "        0.96534748, 0.99727133, 0.93093441, 0.48533923, 0.63427833]),\n",
       " array([4.17022005e-01, 7.20324493e-01, 1.14374817e-04, 3.02332573e-01,\n",
       "        1.46755891e-01, 9.23385948e-02, 1.86260211e-01, 3.45560727e-01,\n",
       "        3.96767474e-01, 5.38816734e-01]),\n",
       " array([0.06450168, 0.13338277, 0.10931622, 0.97127506, 0.85101842,\n",
       "        0.96534748, 0.99727133, 0.93093441, 0.48533923, 0.63427833]))"
      ]
     },
     "execution_count": 13,
     "metadata": {},
     "output_type": "execute_result"
    }
   ],
   "source": [
    "r1,r2,r3"
   ]
  },
  {
   "cell_type": "markdown",
   "metadata": {},
   "source": [
    "### &#8251; 머신러닝 예시\n",
    "- scaling 처리 후 return 값으로 ndarray 타입 데이터로 출력"
   ]
  },
  {
   "cell_type": "code",
   "execution_count": 16,
   "metadata": {},
   "outputs": [
    {
     "data": {
      "text/html": [
       "<div>\n",
       "<style scoped>\n",
       "    .dataframe tbody tr th:only-of-type {\n",
       "        vertical-align: middle;\n",
       "    }\n",
       "\n",
       "    .dataframe tbody tr th {\n",
       "        vertical-align: top;\n",
       "    }\n",
       "\n",
       "    .dataframe thead th {\n",
       "        text-align: right;\n",
       "    }\n",
       "</style>\n",
       "<table border=\"1\" class=\"dataframe\">\n",
       "  <thead>\n",
       "    <tr style=\"text-align: right;\">\n",
       "      <th></th>\n",
       "      <th>0</th>\n",
       "      <th>1</th>\n",
       "    </tr>\n",
       "  </thead>\n",
       "  <tbody>\n",
       "    <tr>\n",
       "      <th>0</th>\n",
       "      <td>26</td>\n",
       "      <td>43</td>\n",
       "    </tr>\n",
       "    <tr>\n",
       "      <th>1</th>\n",
       "      <td>97</td>\n",
       "      <td>45</td>\n",
       "    </tr>\n",
       "    <tr>\n",
       "      <th>2</th>\n",
       "      <td>88</td>\n",
       "      <td>91</td>\n",
       "    </tr>\n",
       "    <tr>\n",
       "      <th>3</th>\n",
       "      <td>20</td>\n",
       "      <td>17</td>\n",
       "    </tr>\n",
       "    <tr>\n",
       "      <th>4</th>\n",
       "      <td>64</td>\n",
       "      <td>99</td>\n",
       "    </tr>\n",
       "  </tbody>\n",
       "</table>\n",
       "</div>"
      ],
      "text/plain": [
       "    0   1\n",
       "0  26  43\n",
       "1  97  45\n",
       "2  88  91\n",
       "3  20  17\n",
       "4  64  99"
      ]
     },
     "execution_count": 16,
     "metadata": {},
     "output_type": "execute_result"
    }
   ],
   "source": [
    "from sklearn.preprocessing import MinMaxScaler\n",
    "import pandas as pd\n",
    "\n",
    "X = np.random.randint(1,100,10).reshape(-1,2) # 5행 2열\n",
    "df = pd.DataFrame(X)\n",
    "df"
   ]
  },
  {
   "cell_type": "code",
   "execution_count": 17,
   "metadata": {},
   "outputs": [
    {
     "data": {
      "text/plain": [
       "(array([[0.07792208, 0.31707317],\n",
       "        [1.        , 0.34146341],\n",
       "        [0.88311688, 0.90243902],\n",
       "        [0.        , 0.        ],\n",
       "        [0.57142857, 1.        ]]),\n",
       " numpy.ndarray)"
      ]
     },
     "execution_count": 17,
     "metadata": {},
     "output_type": "execute_result"
    }
   ],
   "source": [
    "scaled_data = MinMaxScaler().fit_transform(df) # 데이터가 전체에서 어디에 있는지 백분위로 나타냄\n",
    "scaled_data, type(scaled_data)"
   ]
  },
  {
   "cell_type": "markdown",
   "metadata": {},
   "source": [
    "### &#8251; 머신러닝 예시\n",
    "- 초기값을 임의로 생성하여 zero 생성하여 대입할 때 다음과 같은 행렬을 작성하시오\n",
    "$$\n",
    "    \\begin{pmatrix}\n",
    "    난수 & 0 & 0 & 0\\\\\n",
    "    0 & 난수 & 0 & 0\\\\\n",
    "    0 & 0 & 난수 & 0\\\\\n",
    "    0 & 0 & 0 & 난수\\\\\n",
    "    \\end{pmatrix}\n",
    "$$"
   ]
  },
  {
   "cell_type": "code",
   "execution_count": 18,
   "metadata": {},
   "outputs": [
    {
     "data": {
      "text/plain": [
       "array([[0., 0., 0., 0.],\n",
       "       [0., 0., 0., 0.],\n",
       "       [0., 0., 0., 0.],\n",
       "       [0., 0., 0., 0.]])"
      ]
     },
     "execution_count": 18,
     "metadata": {},
     "output_type": "execute_result"
    }
   ],
   "source": [
    "zero_ary = np.zeros((4,4))\n",
    "zero_ary"
   ]
  },
  {
   "cell_type": "code",
   "execution_count": 44,
   "metadata": {},
   "outputs": [
    {
     "data": {
      "text/plain": [
       "array([[ 0.62635569,  0.        ,  0.        ,  0.        ],\n",
       "       [ 0.        , -0.02843835,  0.        ,  0.        ],\n",
       "       [ 0.        ,  0.        , -0.03327178,  0.        ],\n",
       "       [ 0.        ,  0.        ,  0.        , -0.45200419]])"
      ]
     },
     "execution_count": 44,
     "metadata": {},
     "output_type": "execute_result"
    }
   ],
   "source": [
    "w = np.random.randn(4)\n",
    "shp = np.zeros((4,4))\n",
    "\n",
    "for i in range(shp.shape[0]):\n",
    "    for j in range(shp.shape[1]):\n",
    "        if i == j: shp[i][j] = w[i]\n",
    "        \n",
    "shp"
   ]
  },
  {
   "cell_type": "code",
   "execution_count": 46,
   "metadata": {},
   "outputs": [
    {
     "data": {
      "text/plain": [
       "array([[0.52437397, 0.        , 0.        , 0.        ],\n",
       "       [0.        , 0.5471456 , 0.        , 0.        ],\n",
       "       [0.        , 0.        , 0.86930607, 0.        ],\n",
       "       [0.        , 0.        , 0.        , 0.76344344]])"
      ]
     },
     "execution_count": 46,
     "metadata": {},
     "output_type": "execute_result"
    }
   ],
   "source": [
    "diag_matrix = np.diag(np.random.rand(4))\n",
    "diag_matrix"
   ]
  },
  {
   "cell_type": "markdown",
   "metadata": {},
   "source": [
    "### Funtion\n",
    "- 반복성을 줄이고 함수로 선언한 연산을 재사용\n",
    "- 객체지향언어의 가장 큰 장점"
   ]
  },
  {
   "cell_type": "markdown",
   "metadata": {},
   "source": [
    "```python\n",
    "def 함수명(파라미터):\n",
    "    return 출력값\n",
    "```"
   ]
  },
  {
   "cell_type": "code",
   "execution_count": 51,
   "metadata": {},
   "outputs": [
    {
     "name": "stdout",
     "output_type": "stream",
     "text": [
      "603\n",
      "604\n",
      "==========\n",
      "603\n"
     ]
    }
   ],
   "source": [
    "# 리턴을 선언하지 않고 사용하는 경우 -> 함수가 연산 도구로만 사용될 때\n",
    "# 전역변수, 지역변수\n",
    "num = 603\n",
    "print(num)\n",
    "\n",
    "def today():\n",
    "    num = 604\n",
    "    print(num)\n",
    "    \n",
    "today()\n",
    "print('='*10)\n",
    "print(num)"
   ]
  },
  {
   "cell_type": "code",
   "execution_count": 52,
   "metadata": {},
   "outputs": [
    {
     "name": "stdout",
     "output_type": "stream",
     "text": [
      "603\n",
      "604\n",
      "==========\n",
      "604\n"
     ]
    }
   ],
   "source": [
    "num = 603\n",
    "print(num)\n",
    "\n",
    "def today():\n",
    "    global num\n",
    "    num = 604\n",
    "    print(num)\n",
    "    \n",
    "today()\n",
    "print('='*10)\n",
    "print(num)"
   ]
  },
  {
   "cell_type": "markdown",
   "metadata": {},
   "source": [
    "### map 함수와 pandas apply는 유사한 기능\n",
    "- 순서가 있는 데이터값에 함수를 모두 적용하여 결과를 출력하는 함수"
   ]
  },
  {
   "cell_type": "markdown",
   "metadata": {},
   "source": [
    "```python\n",
    "map(적용할 함수, 입력할 데이터)\n",
    "```"
   ]
  },
  {
   "cell_type": "code",
   "execution_count": 55,
   "metadata": {},
   "outputs": [
    {
     "data": {
      "text/plain": [
       "[1, 2, 3, 4, 5, 6]"
      ]
     },
     "execution_count": 55,
     "metadata": {},
     "output_type": "execute_result"
    }
   ],
   "source": [
    "num_txt = '1 2 3 4 5 6'\n",
    "num_int = list(map(int,num_txt.split(\" \")))\n",
    "\n",
    "num_int"
   ]
  },
  {
   "cell_type": "markdown",
   "metadata": {},
   "source": [
    "### lambda 함수\n",
    "- 간단한 연산을 구현하여 일시적으로 사용하는 함수"
   ]
  },
  {
   "cell_type": "markdown",
   "metadata": {},
   "source": [
    "```python\n",
    "lambda 리턴: 연산\n",
    "```"
   ]
  },
  {
   "cell_type": "code",
   "execution_count": 58,
   "metadata": {},
   "outputs": [
    {
     "data": {
      "text/plain": [
       "(array([33, 97, 71, 25, 76, 38, 83, 78, 22, 39]),\n",
       " [11, 32, 23, 8, 25, 12, 27, 26, 7, 13])"
      ]
     },
     "execution_count": 58,
     "metadata": {},
     "output_type": "execute_result"
    }
   ],
   "source": [
    "seq = np.random.randint(1,101,10)\n",
    "q = list(map(lambda x: x//3, seq))\n",
    "\n",
    "seq, q"
   ]
  },
  {
   "cell_type": "code",
   "execution_count": null,
   "metadata": {},
   "outputs": [],
   "source": []
  }
 ],
 "metadata": {
  "kernelspec": {
   "display_name": "Python 3",
   "language": "python",
   "name": "python3"
  },
  "language_info": {
   "codemirror_mode": {
    "name": "ipython",
    "version": 3
   },
   "file_extension": ".py",
   "mimetype": "text/x-python",
   "name": "python",
   "nbconvert_exporter": "python",
   "pygments_lexer": "ipython3",
   "version": "3.12.3"
  }
 },
 "nbformat": 4,
 "nbformat_minor": 2
}
