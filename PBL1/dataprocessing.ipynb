{
 "cells": [
  {
   "cell_type": "code",
   "execution_count": 9,
   "metadata": {},
   "outputs": [],
   "source": [
    "import matplotlib.pyplot as plt\n",
    "import numpy as np\n",
    "import os\n",
    "import torch\n",
    "import torch.nn as nn\n",
    "import torch.nn.functional as F\n",
    "import torch.optim as optim\n",
    "import torchvision.models as models\n",
    "import math\n",
    "import cv2"
   ]
  },
  {
   "cell_type": "code",
   "execution_count": 10,
   "metadata": {},
   "outputs": [],
   "source": [
    "path = 'C:/dataset'"
   ]
  },
  {
   "cell_type": "code",
   "execution_count": 11,
   "metadata": {},
   "outputs": [],
   "source": [
    "categories = ['train', 'test', 'val', 'auto_test'] # 전처리된 데이터셋을 훈련용, 평가용, 검증용으로 구분\n",
    "data_dir = path+'/osteoarthritis/'\n",
    "# device = torch.device('mps:0' if torch.backends.mps.is_available() else 'cpu') # Mac OS\n",
    "device = torch.device( 'cuda' if torch.cuda.is_available() else 'cpu' )"
   ]
  },
  {
   "cell_type": "code",
   "execution_count": 12,
   "metadata": {},
   "outputs": [],
   "source": [
    "import os\n",
    "import numpy as np\n",
    "from tensorflow.keras.preprocessing.image import ImageDataGenerator, img_to_array, load_img\n",
    "import matplotlib.pyplot as plt\n",
    "from sklearn.utils import shuffle\n",
    "\n",
    "# Data augmentation settings\n",
    "datagen = ImageDataGenerator(\n",
    "    rotation_range=3,\n",
    "    width_shift_range=0.05,\n",
    "    height_shift_range=0.05,\n",
    "    shear_range=0.05,\n",
    "    zoom_range=0.05,\n",
    "    fill_mode='nearest'\n",
    ")\n",
    "\n",
    "def augment_images(data_dir, label, augment_count=600):\n",
    "    label_path = os.path.join(data_dir, 'train', str(label))\n",
    "    augmented_dir = os.path.join(label_path, 'augmented')\n",
    "    os.makedirs(augmented_dir, exist_ok=True)\n",
    "\n",
    "    img_names = os.listdir(label_path)\n",
    "    img_names = [name for name in img_names if os.path.isfile(os.path.join(label_path, name))]\n",
    "    generated_count = 0\n",
    "\n",
    "    while generated_count < augment_count:\n",
    "        img_name = np.random.choice(img_names)\n",
    "        img_path = os.path.join(label_path, img_name)\n",
    "        try:\n",
    "            img = load_img(img_path, color_mode='grayscale', target_size=(224, 224))\n",
    "            img = img_to_array(img)\n",
    "            img = img.reshape((1,) + img.shape)\n",
    "\n",
    "            for batch in datagen.flow(img, batch_size=1, save_to_dir=augmented_dir, save_prefix='aug', save_format='png'):\n",
    "                generated_count += 1\n",
    "                break  # 한 장만 생성하고 반복문 탈출\n",
    "        except PermissionError:\n",
    "            print(f\"Permission denied: Unable to access file {img_path}\")\n",
    "        except Exception as e:\n",
    "            print(f\"Error processing file {img_path}: {e}\")\n",
    "\n",
    "# Augment images in label 4\n",
    "# data_dir = path+'/osteoarthritis/train/'  # 적절한 데이터 디렉토리로 변경\n",
    "augment_images(data_dir, 2)\n",
    "\n",
    "# Display augmented images\n",
    "augmented_img_paths = os.listdir(os.path.join(data_dir, 'train', '4', 'augmented'))\n",
    "augmented_img_paths = shuffle(augmented_img_paths)[:6]  # 무작위로 6개 선택\n",
    "\n",
    "for i, img_name in enumerate(augmented_img_paths):\n",
    "    img_path = os.path.join(data_dir, 'train', '4', 'augmented', img_name)\n",
    "    img = load_img(img_path, color_mode='grayscale', target_size=(128, 128))\n",
    "    plt.imshow(img, cmap='gray')\n",
    "    plt.title(f'Augmented Image {i + 1}')\n",
    "    plt.show()\n"
   ]
  }
 ],
 "metadata": {
  "kernelspec": {
   "display_name": "tf",
   "language": "python",
   "name": "python3"
  },
  "language_info": {
   "codemirror_mode": {
    "name": "ipython",
    "version": 3
   },
   "file_extension": ".py",
   "mimetype": "text/x-python",
   "name": "python",
   "nbconvert_exporter": "python",
   "pygments_lexer": "ipython3",
   "version": "3.10.14"
  }
 },
 "nbformat": 4,
 "nbformat_minor": 2
}
