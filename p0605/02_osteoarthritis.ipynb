{
 "cells": [
  {
   "cell_type": "code",
   "execution_count": 1,
   "metadata": {},
   "outputs": [],
   "source": [
    "import os\n",
    "import matplotlib.pyplot as plt\n",
    "import seaborn as sns\n",
    "import numpy as np\n",
    "import cv2\n",
    "import random\n",
    "\n",
    "# data 경로 설정\n",
    "categories = ['train', 'test', 'val', 'auto_test'] # 전처리된 데이터셋을 훈련용, 평가용, 검증용으로 구분\n",
    "data_dir = '/Users/igyuwon/data/osteoarthritis/'"
   ]
  },
  {
   "cell_type": "code",
   "execution_count": 2,
   "metadata": {},
   "outputs": [],
   "source": [
    "def resize_image(img,size=(128,128)):\n",
    "    return cv2.resize(img,size)\n",
    "\n",
    "def he_img(img):\n",
    "    return cv2.equalizeHist(img)\n",
    "\n",
    "def clahe_image(img):\n",
    "    clahe = cv2.createCLAHE(clipLimit=2.,tileGridSize=(8,8))\n",
    "    cl_img = clahe.apply(img)\n",
    "    return cl_img\n",
    "\n",
    "def denoise_img(img):\n",
    "    return cv2.fastNlMeansDenoising(img,None,30,7,21)\n",
    "\n",
    "def normalize_img(img):\n",
    "    return cv2.normalize(img,None,0,255,cv2.NORM_MINMAX)\n",
    "\n",
    "def detect_edge(img):\n",
    "    return cv2.Canny(img,100,200)\n",
    "\n",
    "def blur_img(img):\n",
    "    return cv2.GaussianBlur(img,(5,5),0)\n",
    "\n",
    "def find_contour(img):\n",
    "    ret, thresh = cv2.threshold(img, 127, 255, 0)\n",
    "    contours, hiearchy = cv2.findContours(thresh, cv2.RETR_TREE, cv2.CHAIN_APPROX_SIMPLE)\n",
    "    return contours"
   ]
  },
  {
   "cell_type": "code",
   "execution_count": 3,
   "metadata": {},
   "outputs": [],
   "source": [
    "def load_data(data_dir):\n",
    "    images = []\n",
    "    for img_name in os.listdir(data_dir):\n",
    "        img_path = os.path.join(data_dir, img_name)\n",
    "        if os.path.isfile(img_path):  # 파일인지 확인\n",
    "            img = cv2.imread(img_path, cv2.IMREAD_GRAYSCALE)\n",
    "            if img is not None:  # 이미지가 정상적으로 로드되었는지 확인\n",
    "                img = resize_image(img)\n",
    "                img = clahe_image(img)\n",
    "                img = normalize_img(img)\n",
    "                images.append(img)\n",
    "    prepared_data = np.array(images)\n",
    "    return prepared_data\n"
   ]
  },
  {
   "cell_type": "code",
   "execution_count": 4,
   "metadata": {},
   "outputs": [
    {
     "name": "stdout",
     "output_type": "stream",
     "text": [
      "카테고리: train, 라벨: 0 처리 중....\n",
      "처리된 이미지 수: 2286\n",
      "========================================\n",
      "카테고리: train, 라벨: 1 처리 중....\n",
      "처리된 이미지 수: 1046\n",
      "========================================\n",
      "카테고리: train, 라벨: 2 처리 중....\n",
      "처리된 이미지 수: 1516\n",
      "========================================\n",
      "카테고리: train, 라벨: 3 처리 중....\n",
      "처리된 이미지 수: 757\n",
      "========================================\n",
      "카테고리: train, 라벨: 4 처리 중....\n",
      "처리된 이미지 수: 173\n",
      "========================================\n",
      "카테고리: test, 라벨: 0 처리 중....\n",
      "처리된 이미지 수: 639\n",
      "========================================\n",
      "카테고리: test, 라벨: 1 처리 중....\n",
      "처리된 이미지 수: 296\n",
      "========================================\n",
      "카테고리: test, 라벨: 2 처리 중....\n",
      "처리된 이미지 수: 447\n",
      "========================================\n",
      "카테고리: test, 라벨: 3 처리 중....\n",
      "처리된 이미지 수: 223\n",
      "========================================\n",
      "카테고리: test, 라벨: 4 처리 중....\n",
      "처리된 이미지 수: 51\n",
      "========================================\n",
      "카테고리: val, 라벨: 0 처리 중....\n",
      "처리된 이미지 수: 328\n",
      "========================================\n",
      "카테고리: val, 라벨: 1 처리 중....\n",
      "처리된 이미지 수: 153\n",
      "========================================\n",
      "카테고리: val, 라벨: 2 처리 중....\n",
      "처리된 이미지 수: 212\n",
      "========================================\n",
      "카테고리: val, 라벨: 3 처리 중....\n",
      "처리된 이미지 수: 106\n",
      "========================================\n",
      "카테고리: val, 라벨: 4 처리 중....\n",
      "처리된 이미지 수: 27\n",
      "========================================\n",
      "카테고리: auto_test, 라벨: 0 처리 중....\n",
      "처리된 이미지 수: 604\n",
      "========================================\n",
      "카테고리: auto_test, 라벨: 1 처리 중....\n",
      "처리된 이미지 수: 275\n",
      "========================================\n",
      "카테고리: auto_test, 라벨: 2 처리 중....\n",
      "처리된 이미지 수: 403\n",
      "========================================\n",
      "카테고리: auto_test, 라벨: 3 처리 중....\n",
      "처리된 이미지 수: 200\n",
      "========================================\n",
      "카테고리: auto_test, 라벨: 4 처리 중....\n",
      "처리된 이미지 수: 44\n",
      "========================================\n"
     ]
    }
   ],
   "source": [
    "all_data = {}\n",
    "\n",
    "# 각 카테고리와 라벨에 따라 이미지를 처리\n",
    "for category in categories:\n",
    "    category_path = os.path.join(data_dir, category)\n",
    "    all_data[category] = {}\n",
    "    for label in range(5):\n",
    "        label_path = os.path.join(category_path, str(label))\n",
    "        if os.path.isdir(label_path):  # 라벨 경로가 디렉토리인지 확인\n",
    "            print(f\"카테고리: {category}, 라벨: {label} 처리 중....\")\n",
    "            processed_img_list = load_data(label_path)\n",
    "            all_data[category][label] = processed_img_list\n",
    "            print(f\"처리된 이미지 수: {len(processed_img_list)}\")\n",
    "            print('='*40)"
   ]
  },
  {
   "cell_type": "code",
   "execution_count": 5,
   "metadata": {},
   "outputs": [
    {
     "name": "stdout",
     "output_type": "stream",
     "text": [
      "[[ 51  60  65 ...  99 105  93]\n",
      " [ 49  57  67 ... 102 102  93]\n",
      " [ 49  54  62 ... 105 102  89]\n",
      " ...\n",
      " [ 97 130 153 ...  31  15   3]\n",
      " [ 97 130 153 ...  34  22   6]\n",
      " [ 97 126 153 ...  28  19   3]]\n"
     ]
    }
   ],
   "source": [
    "print(processed_img_list[0])"
   ]
  },
  {
   "cell_type": "code",
   "execution_count": null,
   "metadata": {},
   "outputs": [],
   "source": []
  }
 ],
 "metadata": {
  "kernelspec": {
   "display_name": "Python 3",
   "language": "python",
   "name": "python3"
  },
  "language_info": {
   "codemirror_mode": {
    "name": "ipython",
    "version": 3
   },
   "file_extension": ".py",
   "mimetype": "text/x-python",
   "name": "python",
   "nbconvert_exporter": "python",
   "pygments_lexer": "ipython3",
   "version": "3.10.8"
  }
 },
 "nbformat": 4,
 "nbformat_minor": 2
}
